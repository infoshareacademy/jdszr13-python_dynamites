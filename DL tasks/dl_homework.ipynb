{
 "cells": [
  {
   "cell_type": "markdown",
   "metadata": {},
   "source": [
    "Zadanie 1. 25pkt \n",
    "Zadaniem jest określenie typów wina na podstawie poniższego zbioru danych: https://scikit-learn.org/stable/modules/generated/sklearn.datasets.load_wine.html\n",
    "\n",
    "Przeprowadź krótką wstępną analizę danych\n",
    "Stwórz funkcję budującą model (DNN)\n",
    "Przeprowadź trening i walidację wyników\n",
    "Na podstawie historii treningu przedstaw zmianę funkcji loss\n",
    "Sprawdź jak zmiana parametrów i architektury Twojej sieci wpływa na wyniki i przedstaw swoje obserwacje"
   ]
  },
  {
   "cell_type": "code",
   "execution_count": null,
   "metadata": {},
   "outputs": [],
   "source": [
    "from sklearn.datasets import load_wine\n",
    "data = load_wine()\n",
    "print(data.DESCR)"
   ]
  },
  {
   "cell_type": "markdown",
   "metadata": {},
   "source": [
    "Zadanie 2. 25pkt \n",
    "Zapoznaj się z danymi: https://www.kaggle.com/datasets/weinoose/migraine-classification dotyczącymi klasyfikacji migreny (zmienna y= 'Type').\n",
    "Dokonaj analizy zbioru oraz przekształć zmienną y na postać 0/1 według własnego podejścia.\n",
    "Korzystając z klasy poznanej na zajęciach (\"modelANN_ext\") stwórz model sieci neuronowej. Wytypuj najlepszą Twoim zdaniem funkcję aktywacji. \n",
    "Zoptymalizuj parametry modelu: na początku learning rate, a później liczbę neuronów w wartswie ukrytej. "
   ]
  }
 ],
 "metadata": {
  "kernelspec": {
   "display_name": "Python 3",
   "language": "python",
   "name": "python3"
  },
  "language_info": {
   "name": "python",
   "version": "3.10.0"
  }
 },
 "nbformat": 4,
 "nbformat_minor": 2
}
