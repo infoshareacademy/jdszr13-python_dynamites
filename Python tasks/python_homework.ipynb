{
 "cells": [
  {
   "cell_type": "markdown",
   "metadata": {},
   "source": [
    "### Zadanie nr 1 (10p.)\n",
    "Otrzymaliśmy dane w następującej postaci: \"{dzień tygodnia};{cztery znaki zawierające wskazanie czujnika}\" (zawsze są to 4 znaki!). Napisz skrypt, który wygeneruje raport z konkretnego dnia na prośbę użytkownika:\n",
    "\n",
    "1. Poproś o podanie dnia dla którego ma zostać wyliczony raport (wielkość liter nie powinna mieć znaczenia)\n",
    "2. Pobierz odpowiednią wartość z danych\n",
    "3. Przelicz wskazanie czujnika na temperaturę dzieląc przez wartość z tabeli\n",
    "4. Wypisz temperaturę z dokładnością do trzeciego miejsca po przecinku (tak jak na przykładzie) i ze znakiem specjalnym ℃ (\\u2103)\n",
    "5. BONUS. Do punktu 1 dodaj walidację - upewnij się, że użytkownik podał jeden z dni który możemy znaleźć w danych\n",
    "6. BONUS. Do punktu 4 dodaj wizualizację temperatury w zakresie 0 do 100 stopni na pasku złożonym z 20 znaków (np. dla 50 stopni, zapełnione jest 10/20 znaków)\n",
    "\n",
    "##### Tabela przeliczania\n",
    "\n",
    "```\n",
    "Wskazanie czujnika - przelicznik:\n",
    "\n",
    "Większe niż, lub równe 1400 - 22.5\n",
    "Pomiędzy 1400, a 1200 - 23.1\n",
    "Mniejsze niż, lub równe 1200 - 23.5\n",
    "```"
   ]
  },
  {
   "cell_type": "markdown",
   "metadata": {},
   "source": [
    "Przykładowe wyjście\n",
    "\n",
    "```\n",
    "Dane dla \"thursday\"\n",
    "Wskazanie czujnika: 1100\n",
    "Temperatura: 46.809℃\n",
    "0℃ |#########-----------| 100℃  # BONUS\n",
    "```\\\n"
   ]
  },
  {
   "cell_type": "code",
   "execution_count": null,
   "metadata": {},
   "outputs": [],
   "source": []
  },
  {
   "cell_type": "markdown",
   "metadata": {},
   "source": [
    "### Zadanie nr 2 (15p.)\n",
    "\n",
    "### Napisz gre \"kółko i krzyżyk\"\n",
    "\n",
    "Wyświetlaj aktualny stan planszy przy pomocy znaków 'o', 'x', '-' w trzech wierszach\n",
    "Np.:\n",
    "\n",
    "```\n",
    "--x\n",
    "-x-\n",
    "oo-\n",
    "```\n",
    "\n",
    "Naprzemiennie pytaj gdzie postawić 'x', a gdzie 'o' przyjmując numer pozycji od 1 do 9\n",
    "Tzn.:\n",
    "\n",
    "```\n",
    "123\n",
    "456\n",
    "789\n",
    "```\n",
    "\n",
    "Zakończ grę gdy jedna ze stron wygra, lub wszystkie miejsca będą zapełnione\n",
    "\n",
    "Na razie wyświetlaj wszystko po kolei, jedno pod drugim"
   ]
  },
  {
   "cell_type": "code",
   "execution_count": 1,
   "metadata": {},
   "outputs": [
    {
     "name": "stdout",
     "output_type": "stream",
     "text": [
      "Kółko i krzyżyk!\n"
     ]
    }
   ],
   "source": [
    "print(\"Kółko i krzyżyk!\")\n",
    "\n",
    "# Przygotuj początkowy stan gry\n",
    "\n",
    "# Główna pętla gry\n",
    "# while True:\n",
    "#     pass\n",
    "#     # Wyświetl planszę\n",
    "#     plansza = \"---\\n---\\n---\"\n",
    "#     print(plansza)\n",
    "#     # Pobierz decyzję "
   ]
  },
  {
   "cell_type": "code",
   "execution_count": null,
   "metadata": {},
   "outputs": [],
   "source": []
  },
  {
   "cell_type": "markdown",
   "metadata": {},
   "source": [
    "### Zadanie nr 3 (10p.)\n",
    "\n",
    "Zadanie - Sklep internetowy (use case)\n",
    "\n",
    "Wyobraź sobie, że jesteś właścicielem sklepu internetowego, oraz magazynu, który przechowuje Twoje produkty.\n",
    "\n",
    "Zdefiniuj jakie produkty chcesz sprzedawać.\n",
    "\n",
    "Zastanów się jak możesz skorzystać z poznanych metod programowania obiektowego w swoim biznesie.\n",
    "\n",
    "Przemyśl jakie cechy charakteryzują Twoje obiekty i jakie metody mogą być dla Ciebie użyteczne.\n",
    "\n",
    "Zaprojektuj definicje klas Twoich obiektów. \n",
    "\n",
    "Opisz zaprojektowane rozwiązanie i zaimplementuj potrzebne klasy."
   ]
  },
  {
   "cell_type": "code",
   "execution_count": null,
   "metadata": {},
   "outputs": [],
   "source": []
  },
  {
   "cell_type": "markdown",
   "metadata": {},
   "source": [
    "### Zadanie nr 4 (10p.)\n",
    "\n",
    "Napisz funkcję create_tower, która jako input przyjmuje integera większego od 0\n",
    "i zwraca listę, która tworzy \"piramidę\" z tyloma piętrami:\n"
   ]
  },
  {
   "cell_type": "code",
   "execution_count": 1,
   "metadata": {},
   "outputs": [
    {
     "data": {
      "text/plain": [
       "['  *  ', ' *** ', '*****']"
      ]
     },
     "execution_count": 1,
     "metadata": {},
     "output_type": "execute_result"
    }
   ],
   "source": [
    "#Przykładowe rozwiązanie:\n",
    "#In: create_tower(3)\n",
    "#Out:\n",
    "[\n",
    "'  *  ', \n",
    "' *** ', \n",
    "'*****'\n",
    "]"
   ]
  },
  {
   "cell_type": "code",
   "execution_count": null,
   "metadata": {},
   "outputs": [],
   "source": []
  },
  {
   "cell_type": "markdown",
   "metadata": {},
   "source": [
    "### Zadanie nr 5 (10p.)\n",
    "\n",
    "Napisz program, który poprosi użytkownika o podanie listy imion. Następnie program powinien wykorzystać pętlę for do iteracji po każdym imieniu z listy i wyświetlić je na ekranie. Na końcu program powinien obliczyć i wyświetlić liczbę wprowadzonych imion.\n",
    "\n",
    "Podpowiedź: Możesz użyć funkcji len() do obliczenia liczby elementów w liście.\n",
    "\n",
    "Przykład interakcji programu:\n",
    "```\n",
    "Podaj listę imion (oddzielone spacją): Jan Kasia Adam\n",
    "Imiona wprowadzone przez użytkownika:\n",
    "- Jan\n",
    "- Kasia\n",
    "- Adam\n",
    "Liczba imion: 3\n",
    "```"
   ]
  },
  {
   "cell_type": "code",
   "execution_count": null,
   "metadata": {},
   "outputs": [],
   "source": []
  },
  {
   "cell_type": "markdown",
   "metadata": {},
   "source": [
    "### Zadanie nr 6 (20p.)\n",
    "\n",
    "W tym zadaniu musisz zaimplementować pewne zasady z gry Pac-Man, klasycznej gry z lat 80. w salonach arkadowych.\n",
    "\n",
    "Masz cztery zasady do zaimplementowania, wszystkie związane z stanami gry."
   ]
  },
  {
   "cell_type": "markdown",
   "metadata": {},
   "source": [
    "1. Zdefiniuj, czy Pac-Man zjada duszka.\n",
    "\n",
    "Zdefiniuj funkcję eat_ghost(), która przyjmuje dwa parametry (czy Pac-Man ma aktywny pellet mocy (touching_power_pellet) i czy Pac-Man dotyka duszka (touching_ghost)) i zwraca wartość logiczną (True/False), czy Pac-Man może zjeść duszka. Funkcja powinna zwrócić True tylko wtedy, gdy Pac-Man ma aktywny pellet mocy i dotyka duszka."
   ]
  },
  {
   "cell_type": "code",
   "execution_count": null,
   "metadata": {},
   "outputs": [],
   "source": [
    "def eat_ghost(power_pellet_active, touching_ghost):\n",
    "    return "
   ]
  },
  {
   "cell_type": "markdown",
   "metadata": {},
   "source": [
    "2. Zdefiniuj, czy Pac-Man zdobywa punkty.\n",
    "\n",
    "Zdefiniuj funkcję score(), która przyjmuje dwa parametry (czy Pac-Man dotyka pelletu mocy i czy Pac-Man dotyka kropki) i zwraca wartość logiczną, czy Pac-Man zdobył punkt. Funkcja powinna zwrócić True, jeśli Pac-Man dotyka pelletu mocy lub kropki."
   ]
  },
  {
   "cell_type": "code",
   "execution_count": null,
   "metadata": {},
   "outputs": [],
   "source": [
    "def score(touching_power_pellet, touching_dot):\n",
    "    return"
   ]
  },
  {
   "cell_type": "markdown",
   "metadata": {},
   "source": [
    "3. Zdefiniuj, czy Pac-Man przegrywa.\n",
    "\n",
    "Zdefiniuj funkcję lose(), która przyjmuje dwa parametry (czy Pac-Man ma aktywny pellet mocy i czy Pac-Man dotyka duszka) i zwraca wartość logiczną, czy Pac-Man przegrywa. Funkcja powinna zwrócić True, jeśli Pac-Man dotyka duszka i nie ma aktywnego pelleta mocy."
   ]
  },
  {
   "cell_type": "code",
   "execution_count": null,
   "metadata": {},
   "outputs": [],
   "source": [
    "def lose(power_pellet_active, touching_ghost):\n",
    "    return"
   ]
  },
  {
   "cell_type": "markdown",
   "metadata": {},
   "source": [
    "4. Zdefiniuj, czy Pac-Man wygrywa.\n",
    "\n",
    "Zdefiniuj funkcję win(), która przyjmuje trzy parametry (czy Pac-Man zjadł wszystkie kropki, czy Pac-Man ma aktywny pellet mocy i czy Pac-Man dotyka duszka) i zwraca wartość logiczną, czy Pac-Man wygrywa. Funkcja powinna zwrócić True, jeśli Pac-Man zjadł wszystkie kropki i nie przegrał na podstawie zdefiniowanych parametrów w części 3."
   ]
  },
  {
   "cell_type": "code",
   "execution_count": null,
   "metadata": {},
   "outputs": [],
   "source": [
    "def win(has_eaten_all_dots, power_pellet_active, touching_ghost):\n",
    "    return"
   ]
  },
  {
   "cell_type": "markdown",
   "metadata": {},
   "source": [
    "### Zadanie nr 7 (12p.)\n",
    "\n",
    "Pobierz zbiór danych o zawodnikach NBA: https://www.kaggle.com/justinas/nba-players-data\n",
    "otwórz go za pomocą Pandas i odpowiedz na pytania:\n",
    "1. Czy jest jakikolwiek zawodnik spoza USA, który przed NBA uczęszczał do college'u Kentucky?\n",
    "2. Ile wynosi średni wzrost zawodnika w calach??\n",
    "   Czy od pierwszego sezonu w tym zbiorze do teraz powiększył się czy zmniejszył?\n",
    "3. Kto w badanym okresie rzucił łącznie najwięcej punktów?\n",
    "   Czy ta osoba miała też największą średnią punktów na sezon?\n",
    "4. W której rundzie draftu największy udział procentowy mieli zawodnicy ważący więcej niż 100 kg?\n"
   ]
  },
  {
   "cell_type": "code",
   "execution_count": null,
   "metadata": {},
   "outputs": [],
   "source": []
  },
  {
   "cell_type": "markdown",
   "metadata": {},
   "source": [
    "### Zadanie nr 8 (13p.)\n",
    "Pobierz zbiór danych dotyczący oczekiwanej długości życia wg WHO: https://www.kaggle.com/datasets/kumarajarshi/life-expectancy-who\n",
    "otwórz go za pomocą Pandas i zaproponuj 3 różne strategie na poradzenie sobie z brakującymi wartościami.\n",
    "Odpowiedz na pytania:\n",
    "\n",
    "1. Jakie kolumny mają braki danych?\n",
    "2. Jaka kolumna posiada największy udział procentowy braków danych i ile on wynosi?\n",
    "1. Jakie 3 różne strategie zarządzania brakującymi danymi dobrałeś oraz dlaczego? \n",
    "2. Porównaj rozkład zmiennych przed oraz po uzupełnieniu brakujących danych (histogramy dla każdej strategii) dla kolumny, która miała najwiekszą liczbę braków."
   ]
  },
  {
   "cell_type": "code",
   "execution_count": null,
   "metadata": {},
   "outputs": [],
   "source": []
  }
 ],
 "metadata": {
  "kernelspec": {
   "display_name": "Python 3.10.0 64-bit",
   "language": "python",
   "name": "python3"
  },
  "language_info": {
   "codemirror_mode": {
    "name": "ipython",
    "version": 3
   },
   "file_extension": ".py",
   "mimetype": "text/x-python",
   "name": "python",
   "nbconvert_exporter": "python",
   "pygments_lexer": "ipython3",
   "version": "3.11.3"
  },
  "orig_nbformat": 4,
  "vscode": {
   "interpreter": {
    "hash": "8c3d4d9970fc5c09c50d9318a9c7fbf4d0159e4b28833276f5678ee22bded273"
   }
  }
 },
 "nbformat": 4,
 "nbformat_minor": 2
}
