{
 "cells": [
  {
   "cell_type": "code",
   "execution_count": 7,
   "metadata": {},
   "outputs": [],
   "source": [
    "import numpy as np\n",
    "import matplotlib.pyplot as plt\n",
    "%matplotlib inline\n",
    "import os, shutil\n",
    "import cv2\n",
    "import glob as gb\n",
    "import pandas as pd\n",
    "import seaborn as sns\n",
    "import matplotlib.image as mpimg\n",
    "from PIL import Image\n",
    "\n",
    "import tensorflow as tf\n",
    "from tensorflow import keras\n",
    "from tensorflow.keras import layers\n",
    "\n",
    "import warnings\n",
    "warnings.filterwarnings(\"ignore\")"
   ]
  },
  {
   "cell_type": "code",
   "execution_count": 17,
   "metadata": {},
   "outputs": [],
   "source": [
    "# vreate folder data with zipped images form kaggle!!!\n",
    "\n",
    "path_file_cat = 'data/PetImages/Cat'\n",
    "path_file_dog = 'data/PetImages/Dog'\n",
    "\n",
    "base_dir = 'data/PetImages/Train'\n",
    "\n",
    "# Train folder\n",
    "Train_dir = os.path.join(base_dir, 'Train')\n",
    "\n",
    "cat_train_dir = os.path.join(Train_dir, 'cat')\n",
    "dog_train_dir = os.path.join(Train_dir, 'dog')\n",
    "\n",
    "# Test Folder\n",
    "Test_dir = os.path.join(base_dir, 'Test')\n",
    "\n",
    "cat_test_dir = os.path.join(Test_dir, 'cat')\n",
    "dog_test_dir = os.path.join(Test_dir, 'dog')\n",
    "\n",
    "# Validation Folder\n",
    "valid_dir = os.path.join(base_dir, 'validation')\n",
    "cat_val_dir = os.path.join(valid_dir, 'cat')\n",
    "dog_val_dir = os.path.join(valid_dir, 'dog')"
   ]
  },
  {
   "cell_type": "code",
   "execution_count": 18,
   "metadata": {},
   "outputs": [],
   "source": [
    "# Creating folders\n",
    "os.mkdir(base_dir)\n",
    "\n",
    "# Train folder\n",
    "os.mkdir(Train_dir)\n",
    "os.mkdir(cat_train_dir)\n",
    "os.mkdir(dog_train_dir)\n",
    "\n",
    "# Test Folder\n",
    "os.mkdir(Test_dir)\n",
    "os.mkdir(cat_test_dir)\n",
    "os.mkdir(dog_test_dir)\n",
    "\n",
    "# validation folder\n",
    "os.mkdir(valid_dir)\n",
    "os.mkdir(cat_val_dir)\n",
    "os.mkdir(dog_val_dir)"
   ]
  },
  {
   "cell_type": "code",
   "execution_count": 19,
   "metadata": {},
   "outputs": [],
   "source": [
    "train_list_cat_file = [f'{i}.jpg' for i in range(6500)]\n",
    "train_list_dog_file = [f'{i}.jpg' for i in range(6500)]\n",
    "\n",
    "test_list_cat_file = [f'{i}.jpg' for i in range(6500, 9500)]\n",
    "test_list_dog_file = [f'{i}.jpg' for i in range(6500, 9500)]\n",
    "\n",
    "val_list_cat_file = [f'{i}.jpg' for i in range(9500, 12500)]\n",
    "val_list_dog_file = [f'{i}.jpg' for i in range(9500, 12500)]"
   ]
  },
  {
   "cell_type": "code",
   "execution_count": 20,
   "metadata": {},
   "outputs": [],
   "source": [
    "# organaize cat and dog in train folders\n",
    "# cat\n",
    "for filename in train_list_cat_file:\n",
    "    src = os.path.join(path_file_cat, filename)\n",
    "    dst = os.path.join(cat_train_dir, filename)\n",
    "    shutil.copyfile(src, dst)\n",
    "    \n",
    "# dog\n",
    "for filename in train_list_dog_file:\n",
    "    src = os.path.join(path_file_dog, filename)\n",
    "    dst = os.path.join(dog_train_dir, filename)\n",
    "    shutil.copyfile(src, dst)\n",
    "    \n",
    "# organaize cat and dog in test folders\n",
    "# cat\n",
    "for filename in test_list_cat_file:\n",
    "    src = os.path.join(path_file_cat, filename)\n",
    "    dst = os.path.join(cat_test_dir, filename)\n",
    "    shutil.copyfile(src, dst)\n",
    "    \n",
    "# dog\n",
    "for filename in test_list_dog_file:\n",
    "    src = os.path.join(path_file_dog, filename)\n",
    "    dst = os.path.join(dog_test_dir, filename)\n",
    "    shutil.copyfile(src, dst)\n",
    "    \n",
    "# organaize cat and dog in validation folders\n",
    "# cat\n",
    "for filename in val_list_cat_file:\n",
    "    src = os.path.join(path_file_cat, filename)\n",
    "    dst = os.path.join(cat_val_dir, filename)\n",
    "    shutil.copyfile(src, dst)\n",
    "    \n",
    "# dog\n",
    "for filename in val_list_dog_file:\n",
    "    src = os.path.join(path_file_dog, filename)\n",
    "    dst = os.path.join(dog_val_dir, filename)\n",
    "    shutil.copyfile(src, dst)"
   ]
  },
  {
   "cell_type": "code",
   "execution_count": 21,
   "metadata": {},
   "outputs": [
    {
     "name": "stdout",
     "output_type": "stream",
     "text": [
      "number of cat img in train folder:  6500\n",
      "number of dog img in train folder:  6500\n",
      "number of cat img in test folder:  3000\n",
      "number of dog img in test folder:  3000\n",
      "number of cat img in validation folder:  3000\n",
      "number of dog img in validation folder:  3000\n"
     ]
    }
   ],
   "source": [
    "print(\"number of cat img in train folder: \", len(os.listdir(cat_train_dir)))\n",
    "print(\"number of dog img in train folder: \", len(os.listdir(dog_train_dir)))\n",
    "print(\"number of cat img in test folder: \", len(os.listdir(cat_test_dir)))\n",
    "print(\"number of dog img in test folder: \", len(os.listdir(dog_test_dir)))\n",
    "print(\"number of cat img in validation folder: \", len(os.listdir(cat_val_dir)))\n",
    "print(\"number of dog img in validation folder: \", len(os.listdir(dog_val_dir)))"
   ]
  }
 ],
 "metadata": {
  "kernelspec": {
   "display_name": "base",
   "language": "python",
   "name": "python3"
  },
  "language_info": {
   "codemirror_mode": {
    "name": "ipython",
    "version": 3
   },
   "file_extension": ".py",
   "mimetype": "text/x-python",
   "name": "python",
   "nbconvert_exporter": "python",
   "pygments_lexer": "ipython3",
   "version": "3.11.4"
  }
 },
 "nbformat": 4,
 "nbformat_minor": 2
}
